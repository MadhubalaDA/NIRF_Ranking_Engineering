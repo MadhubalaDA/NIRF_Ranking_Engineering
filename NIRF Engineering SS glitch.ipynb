{
 "cells": [
  {
   "cell_type": "code",
   "execution_count": null,
   "id": "433ddf31",
   "metadata": {},
   "outputs": [],
   "source": [
    "import pandas as pd\n",
    "SS1=pd.read_excel(r\"C:\\Users\\madhu\\Documents\\NIRF Engineering calculation.xlsx\", sheet_name=0)\n",
    "y=SS1[['SS cal=Criteria*Ratio']]\n",
    "x=SS1[['SI','TE']]\n",
    "from sklearn.model_selection import train_test_split\n",
    "x_train, x_test, y_train, y_test=train_test_split(x,y, test_size=0.2,random_state=31)\n",
    "y_train = y_train.values.ravel()\n",
    "from sklearn.ensemble import RandomForestRegressor\n",
    "model=RandomForestRegressor(n_estimators=1000, random_state=31)\n",
    "rf=model.fit(x_train, y_train)\n",
    "y_test['Prediction']=model.predict(x_test)\n",
    "from sklearn.metrics import mean_squared_error\n",
    "mse = mean_squared_error(y_test['SS cal=Criteria*Ratio'], y_test['Prediction'])\n",
    "print(\"Mean Squared Error:\", mse)\n",
    "si=int(input(\"Enter Sanctioned Intake: \"))\n",
    "te=int(input(\"Enter total enrolled students: \"))\n",
    "new_input=[[si,te]]\n",
    "SS_students=model.predict(new_input)\n",
    "print(\"SS(students):\", SS_students)\n",
    "SS2=pd.read_excel(r\"C:\\Users\\madhu\\Documents\\NIRF Engineering calculation.xlsx\", sheet_name=11)\n",
    "SS2.isnull().sum()\n",
    "y11=SS2[['Score']]\n",
    "x11=SS2[['PhD pursuing till 2021 FT','PhD pursuing till 2021 PT']]\n",
    "from sklearn.model_selection import train_test_split\n",
    "x_train11, x_test11, y_train11, y_test11=train_test_split(x11,y11, test_size=0.2,random_state=31)\n",
    "y_train11 = y_train11.values.ravel()\n",
    "from sklearn.ensemble import RandomForestRegressor\n",
    "model11=RandomForestRegressor(n_estimators=1000, random_state=31)\n",
    "rf11=model11.fit(x_train11, y_train11)\n",
    "y_test11['Prediction']=model11.predict(x_test11)\n",
    "from sklearn.metrics import mean_squared_error\n",
    "mse11 = mean_squared_error(y_test11['Score'], y_test11['Prediction'])\n",
    "print(\"Mean Squared Error:\", mse11)\n",
    "FT=int(input(\"Enter no. of PhD enrolled full time: \"))\n",
    "PT=int(input(\"Enter no. of PhD enrolled part time: \"))\n",
    "new_input=[[FT,PT]]\n",
    "SS_PhD=model.predict(new_input)\n",
    "print(\"SS(PhD):\", SS_PhD)\n",
    "SS=SS_students+SS_PhD\n",
    "print(\"SS: {}\".format(SS))"
   ]
  }
 ],
 "metadata": {
  "kernelspec": {
   "display_name": "Python 3 (ipykernel)",
   "language": "python",
   "name": "python3"
  },
  "language_info": {
   "codemirror_mode": {
    "name": "ipython",
    "version": 3
   },
   "file_extension": ".py",
   "mimetype": "text/x-python",
   "name": "python",
   "nbconvert_exporter": "python",
   "pygments_lexer": "ipython3",
   "version": "3.9.13"
  }
 },
 "nbformat": 4,
 "nbformat_minor": 5
}
